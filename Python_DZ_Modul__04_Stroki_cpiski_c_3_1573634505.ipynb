{
 "cells": [
  {
   "cell_type": "markdown",
   "metadata": {},
   "source": [
    "Модуль 4.\n",
    "Строки. Списки.\n",
    "Часть 3\n",
    "Задание 1\n",
    "Два списка целых заполняются случайными числами.\n",
    "Необходимо:\n",
    "■ Сформировать третий список, содержащий элементы\n",
    "обоих списков;\n",
    "■ Сформировать третий список, содержащий элементы\n",
    "обоих списков без повторений;\n",
    "■ Сформировать третий список, содержащий элементы\n",
    "общие для двух списков;\n",
    "■ Сформировать третий список, содержащий только\n",
    "уникальные элементы каждого из списков;\n",
    "■ Сформировать третий список, содержащий только\n",
    "минимальное и максимальное значение каждого из\n",
    "списков."
   ]
  },
  {
   "cell_type": "code",
   "execution_count": null,
   "metadata": {},
   "outputs": [],
   "source": [
    "import random\n",
    "\n",
    "list_size = 20\n",
    "number_range = 200\n",
    "\n",
    "\n",
    "list1 = [random.randint(0, number_range - 1) for _ in range(list_size)]\n",
    "list2 = [random.randint(0, number_range - 1) for _ in range(list_size)]\n",
    "\n",
    "print(f\"Список 1: {list1}\")\n",
    "print(f\"Список 2: {list2}\")\n",
    "\n",
    "\n",
    "combined_list = list1 + list2\n",
    "print(f\"Элементы обоих списков: {combined_list}\")\n",
    "\n",
    "\n",
    "unique_combined = list(set(combined_list))\n",
    "print(f\"Элементы обоих списков без повторений: {unique_combined}\")\n",
    "\n",
    "\n",
    "common_elements = list(set(list1) & set(list2))\n",
    "print(f\"Элементы, общие для двух списков: {common_elements}\")\n",
    "\n",
    "\n",
    "unique_list1 = list(set(list1))\n",
    "unique_list2 = list(set(list2))\n",
    "unique_elements = list(set(unique_list1) - set(unique_list2)) + list(set(unique_list2) - set(unique_list1))\n",
    "print(f\"Уникальные элементы каждого из списков: {unique_elements}\")\n",
    "\n",
    "\n",
    "extremes_list1 = [min(list1), max(list1)]\n",
    "extremes_list2 = [min(list2), max(list2)]\n",
    "extremes_combined = extremes_list1 + extremes_list2\n",
    "print(f\"Минимальные и максимальные значения каждого из списков: {extremes_combined}\")"
   ]
  }
 ],
 "metadata": {
  "kernelspec": {
   "display_name": "Python 3",
   "language": "python",
   "name": "python3"
  },
  "language_info": {
   "codemirror_mode": {
    "name": "ipython",
    "version": 3
   },
   "file_extension": ".py",
   "mimetype": "text/x-python",
   "name": "python",
   "nbconvert_exporter": "python",
   "pygments_lexer": "ipython3",
   "version": "3.12.6"
  }
 },
 "nbformat": 4,
 "nbformat_minor": 2
}
