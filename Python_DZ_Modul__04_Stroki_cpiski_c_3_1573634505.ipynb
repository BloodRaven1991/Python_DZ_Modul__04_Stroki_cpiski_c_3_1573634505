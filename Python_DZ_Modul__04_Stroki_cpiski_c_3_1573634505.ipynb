{
 "cells": [
  {
   "cell_type": "code",
   "execution_count": 4,
   "metadata": {},
   "outputs": [
    {
     "name": "stdout",
     "output_type": "stream",
     "text": [
      "Список 1: [75, 21, 96, 58, 24, 34, 94, 72, 23, 53]\n",
      "Список 2: [35, 32, 54, 3, 4, 80, 86, 65, 51, 9]\n",
      "Элементы обоих списков: [75, 21, 96, 58, 24, 34, 94, 72, 23, 53, 35, 32, 54, 3, 4, 80, 86, 65, 51, 9]\n",
      "Элементы обоих списков без повторений: [3, 4, 9, 21, 23, 24, 32, 34, 35, 51, 53, 54, 58, 65, 72, 75, 80, 86, 94, 96]\n",
      "Элементы, общие для двух списков: []\n",
      "Уникальные элементы каждого из списков: [96, 34, 72, 75, 21, 53, 23, 24, 58, 94, 32, 65, 3, 4, 35, 9, 80, 51, 54, 86]\n",
      "Минимальные и максимальные значения каждого из списков: [21, 96, 3, 86]\n"
     ]
    }
   ],
   "source": [
    "import random\n",
    "\n",
    "list_size = 10\n",
    "number_range = 100\n",
    "\n",
    "\n",
    "list1 = [random.randint(0, number_range - 1) for _ in range(list_size)]\n",
    "list2 = [random.randint(0, number_range - 1) for _ in range(list_size)]\n",
    "\n",
    "print(f\"Список 1: {list1}\")\n",
    "print(f\"Список 2: {list2}\")\n",
    "\n",
    "\n",
    "combined_list = list1 + list2\n",
    "print(f\"Элементы обоих списков: {combined_list}\")\n",
    "\n",
    "\n",
    "unique_combined = list(set(combined_list))\n",
    "print(f\"Элементы обоих списков без повторений: {unique_combined}\")\n",
    "\n",
    "\n",
    "common_elements = list(set(list1) & set(list2))\n",
    "print(f\"Элементы, общие для двух списков: {common_elements}\")\n",
    "\n",
    "\n",
    "unique_list1 = list(set(list1))\n",
    "unique_list2 = list(set(list2))\n",
    "unique_elements = list(set(unique_list1) - set(unique_list2)) + list(set(unique_list2) - set(unique_list1))\n",
    "print(f\"Уникальные элементы каждого из списков: {unique_elements}\")\n",
    "\n",
    "\n",
    "extremes_list1 = [min(list1), max(list1)]\n",
    "extremes_list2 = [min(list2), max(list2)]\n",
    "extremes_combined = extremes_list1 + extremes_list2\n",
    "print(f\"Минимальные и максимальные значения каждого из списков: {extremes_combined}\")"
   ]
  }
 ],
 "metadata": {
  "kernelspec": {
   "display_name": "Python 3",
   "language": "python",
   "name": "python3"
  },
  "language_info": {
   "codemirror_mode": {
    "name": "ipython",
    "version": 3
   },
   "file_extension": ".py",
   "mimetype": "text/x-python",
   "name": "python",
   "nbconvert_exporter": "python",
   "pygments_lexer": "ipython3",
   "version": "3.12.6"
  }
 },
 "nbformat": 4,
 "nbformat_minor": 2
}
